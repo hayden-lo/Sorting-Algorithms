{
 "cells": [
  {
   "cell_type": "code",
   "execution_count": 1,
   "metadata": {},
   "outputs": [
    {
     "data": {
      "text/plain": [
       "[1, 2, 3, 7, 23, 78, 87]"
      ]
     },
     "execution_count": 1,
     "metadata": {},
     "output_type": "execute_result"
    }
   ],
   "source": [
    "def bubble_sort(L):\n",
    "    for i in range(len(L)-1):\n",
    "        for j in range(len(L)-i-1):\n",
    "            if L[j]>L[j+1]:\n",
    "                L[j],L[j+1]=L[j+1],L[j]\n",
    "    return L\n",
    "\n",
    "L=[1,2,7,3,78,87,23]\n",
    "bubble_sort(L)"
   ]
  },
  {
   "cell_type": "code",
   "execution_count": 2,
   "metadata": {},
   "outputs": [
    {
     "data": {
      "text/plain": [
       "[1, 2, 3, 7, 23, 78, 87]"
      ]
     },
     "execution_count": 2,
     "metadata": {},
     "output_type": "execute_result"
    }
   ],
   "source": [
    "def insert_sort(L):\n",
    "    for i in range(len(L)):\n",
    "        j=i-1\n",
    "        while j>=0:\n",
    "            if L[i]<L[j]:\n",
    "                L[i],L[j]=L[j],L[i]\n",
    "            i-=1\n",
    "            j-=1\n",
    "    return L\n",
    "\n",
    "L=[1,2,7,3,78,87,23]\n",
    "insert_sort(L)"
   ]
  },
  {
   "cell_type": "code",
   "execution_count": 3,
   "metadata": {},
   "outputs": [
    {
     "data": {
      "text/plain": [
       "[1, 2, 3, 7, 23, 78, 87]"
      ]
     },
     "execution_count": 3,
     "metadata": {},
     "output_type": "execute_result"
    }
   ],
   "source": [
    "def select_sort(L):\n",
    "    for i in range(len(L)):\n",
    "        for j in range(i+1,len(L)):\n",
    "            if L[i]>L[j]:\n",
    "                L[i],L[j]=L[j],L[i]\n",
    "    return L\n",
    "\n",
    "L=[1,2,7,3,78,87,23]\n",
    "select_sort(L)"
   ]
  },
  {
   "cell_type": "code",
   "execution_count": 8,
   "metadata": {},
   "outputs": [
    {
     "data": {
      "text/plain": [
       "[1, 2, 3, 7, 23, 78, 87]"
      ]
     },
     "execution_count": 8,
     "metadata": {},
     "output_type": "execute_result"
    }
   ],
   "source": [
    "def merge_sort(L):\n",
    "    if len(L)<=1:\n",
    "        return L\n",
    "    else:\n",
    "        middle=round(len(L)/2)\n",
    "        left=merge_sort(L[:middle])\n",
    "        right=merge_sort(L[middle:])\n",
    "        i=j=0\n",
    "        L=[]\n",
    "        while i<len(left) and j<len(right):\n",
    "            if left[i]<right[j]:\n",
    "                L.append(left[i])\n",
    "                i+=1\n",
    "            else:\n",
    "                L.append(right[j])\n",
    "                j+=1\n",
    "        L+=left[i:]\n",
    "        L+=right[j:]\n",
    "        return L\n",
    "\n",
    "L=[1,2,7,3,78,87,23]\n",
    "merge_sort(L)"
   ]
  },
  {
   "cell_type": "code",
   "execution_count": 13,
   "metadata": {},
   "outputs": [
    {
     "data": {
      "text/plain": [
       "[1, 2, 3, 7, 23, 78, 87]"
      ]
     },
     "execution_count": 13,
     "metadata": {},
     "output_type": "execute_result"
    }
   ],
   "source": [
    "def quick_sort(L):\n",
    "    if len(L)<=1:\n",
    "        return L\n",
    "    else:\n",
    "        first=L[0]\n",
    "        last=L[len(L)-1]\n",
    "        middle=L[round(len(L)/2)]\n",
    "        max_value=max(first,last,middle)\n",
    "        min_value=min(first,last,middle)\n",
    "        if first<max_value and first>min_value:\n",
    "            pivot=first\n",
    "        elif last<max_value and last>min_value:\n",
    "            pivot=last\n",
    "        else:\n",
    "            pivot=middle\n",
    "        i=j=0\n",
    "        left,right=[],[]\n",
    "        for i in range(len(L)):\n",
    "            if L[i]<pivot:\n",
    "                left.append(L[i])\n",
    "        for j in range(len(L)):\n",
    "            if L[j]>pivot:\n",
    "                right.append(L[j])\n",
    "        return quick_sort(left)+[pivot]+quick_sort(right)\n",
    "\n",
    "L=[1,2,7,3,78,87,23]\n",
    "quick_sort(L)"
   ]
  },
  {
   "cell_type": "code",
   "execution_count": 5,
   "metadata": {},
   "outputs": [
    {
     "data": {
      "text/plain": [
       "[1, 2, 3, 7, 23, 78, 87]"
      ]
     },
     "execution_count": 5,
     "metadata": {},
     "output_type": "execute_result"
    }
   ],
   "source": [
    "def quick_sort2(L,left,right):\n",
    "    if left>=right:\n",
    "        return L\n",
    "    else:\n",
    "        start=left\n",
    "        end=right\n",
    "        pivot=L[start]\n",
    "        i=j=0\n",
    "        while left<right and L[right]>pivot:\n",
    "            right-=1\n",
    "        L[left],L[right]=L[right],L[left]\n",
    "        while left<right and L[left]<pivot:\n",
    "            left-=1\n",
    "        L[left],L[right]=L[right],L[left]\n",
    "        quick_sort2(L,start,left-1)\n",
    "        quick_sort2(L,left+1,end)\n",
    "        return L\n",
    "\n",
    "L=[1,2,7,3,78,87,23]\n",
    "quick_sort2(L,0,len(L)-1)"
   ]
  }
 ],
 "metadata": {
  "kernelspec": {
   "display_name": "Python 3",
   "language": "python",
   "name": "python3"
  },
  "language_info": {
   "codemirror_mode": {
    "name": "ipython",
    "version": 3
   },
   "file_extension": ".py",
   "mimetype": "text/x-python",
   "name": "python",
   "nbconvert_exporter": "python",
   "pygments_lexer": "ipython3",
   "version": "3.6.4"
  }
 },
 "nbformat": 4,
 "nbformat_minor": 2
}
